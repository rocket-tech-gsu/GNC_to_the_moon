{
 "cells": [
  {
   "cell_type": "code",
   "execution_count": 1,
   "metadata": {},
   "outputs": [],
   "source": [
    "import pandas as pd\n",
    "\n"
   ]
  },
  {
   "cell_type": "code",
   "execution_count": 2,
   "metadata": {},
   "outputs": [
    {
     "data": {
      "text/html": [
       "<div>\n",
       "<style scoped>\n",
       "    .dataframe tbody tr th:only-of-type {\n",
       "        vertical-align: middle;\n",
       "    }\n",
       "\n",
       "    .dataframe tbody tr th {\n",
       "        vertical-align: top;\n",
       "    }\n",
       "\n",
       "    .dataframe thead th {\n",
       "        text-align: right;\n",
       "    }\n",
       "</style>\n",
       "<table border=\"1\" class=\"dataframe\">\n",
       "  <thead>\n",
       "    <tr style=\"text-align: right;\">\n",
       "      <th></th>\n",
       "      <th>Time</th>\n",
       "      <th>Latitude</th>\n",
       "      <th>Longitude</th>\n",
       "      <th>Altitude</th>\n",
       "      <th>Temperature</th>\n",
       "      <th>Pressure</th>\n",
       "      <th>AccelX</th>\n",
       "      <th>AccelY</th>\n",
       "      <th>AccelZ</th>\n",
       "      <th>GyroX</th>\n",
       "      <th>GyroY</th>\n",
       "      <th>GyroZ</th>\n",
       "      <th>MPU_Temperature</th>\n",
       "    </tr>\n",
       "  </thead>\n",
       "  <tbody>\n",
       "    <tr>\n",
       "      <th>0</th>\n",
       "      <td>14797.0</td>\n",
       "      <td>0</td>\n",
       "      <td>0</td>\n",
       "      <td>19.39</td>\n",
       "      <td>17.08</td>\n",
       "      <td>101092.28</td>\n",
       "      <td>-0.82</td>\n",
       "      <td>9.73</td>\n",
       "      <td>-0.19</td>\n",
       "      <td>-0.04</td>\n",
       "      <td>0.04</td>\n",
       "      <td>-0.02</td>\n",
       "      <td>17.94</td>\n",
       "    </tr>\n",
       "    <tr>\n",
       "      <th>1</th>\n",
       "      <td>15315.0</td>\n",
       "      <td>0</td>\n",
       "      <td>0</td>\n",
       "      <td>19.38</td>\n",
       "      <td>17.08</td>\n",
       "      <td>101092.45</td>\n",
       "      <td>-1.04</td>\n",
       "      <td>9.73</td>\n",
       "      <td>-0.09</td>\n",
       "      <td>-0.03</td>\n",
       "      <td>0.03</td>\n",
       "      <td>-0.01</td>\n",
       "      <td>17.94</td>\n",
       "    </tr>\n",
       "    <tr>\n",
       "      <th>2</th>\n",
       "      <td>15819.0</td>\n",
       "      <td>0</td>\n",
       "      <td>0</td>\n",
       "      <td>19.35</td>\n",
       "      <td>17.08</td>\n",
       "      <td>101092.77</td>\n",
       "      <td>-0.79</td>\n",
       "      <td>9.73</td>\n",
       "      <td>-0.20</td>\n",
       "      <td>-0.03</td>\n",
       "      <td>0.03</td>\n",
       "      <td>-0.01</td>\n",
       "      <td>17.96</td>\n",
       "    </tr>\n",
       "    <tr>\n",
       "      <th>3</th>\n",
       "      <td>16299.0</td>\n",
       "      <td>0</td>\n",
       "      <td>0</td>\n",
       "      <td>19.35</td>\n",
       "      <td>17.08</td>\n",
       "      <td>101092.77</td>\n",
       "      <td>-0.89</td>\n",
       "      <td>9.75</td>\n",
       "      <td>-0.17</td>\n",
       "      <td>-0.03</td>\n",
       "      <td>0.04</td>\n",
       "      <td>-0.02</td>\n",
       "      <td>17.96</td>\n",
       "    </tr>\n",
       "    <tr>\n",
       "      <th>4</th>\n",
       "      <td>16820.0</td>\n",
       "      <td>No info on Latitude</td>\n",
       "      <td>No info on Longitude</td>\n",
       "      <td>19.35</td>\n",
       "      <td>17.08</td>\n",
       "      <td>101092.77</td>\n",
       "      <td>-0.91</td>\n",
       "      <td>9.72</td>\n",
       "      <td>-0.14</td>\n",
       "      <td>-0.03</td>\n",
       "      <td>0.03</td>\n",
       "      <td>-0.01</td>\n",
       "      <td>17.96</td>\n",
       "    </tr>\n",
       "  </tbody>\n",
       "</table>\n",
       "</div>"
      ],
      "text/plain": [
       "      Time             Latitude             Longitude  Altitude  Temperature  \\\n",
       "0  14797.0                    0                     0     19.39        17.08   \n",
       "1  15315.0                    0                     0     19.38        17.08   \n",
       "2  15819.0                    0                     0     19.35        17.08   \n",
       "3  16299.0                    0                     0     19.35        17.08   \n",
       "4  16820.0  No info on Latitude  No info on Longitude     19.35        17.08   \n",
       "\n",
       "    Pressure  AccelX  AccelY  AccelZ  GyroX  GyroY  GyroZ  MPU_Temperature  \n",
       "0  101092.28   -0.82    9.73   -0.19  -0.04   0.04  -0.02            17.94  \n",
       "1  101092.45   -1.04    9.73   -0.09  -0.03   0.03  -0.01            17.94  \n",
       "2  101092.77   -0.79    9.73   -0.20  -0.03   0.03  -0.01            17.96  \n",
       "3  101092.77   -0.89    9.75   -0.17  -0.03   0.04  -0.02            17.96  \n",
       "4  101092.77   -0.91    9.72   -0.14  -0.03   0.03  -0.01            17.96  "
      ]
     },
     "execution_count": 2,
     "metadata": {},
     "output_type": "execute_result"
    }
   ],
   "source": [
    "df = pd.read_csv(\"data_clean.csv\")\n",
    "df.head()"
   ]
  },
  {
   "cell_type": "code",
   "execution_count": 3,
   "metadata": {},
   "outputs": [
    {
     "data": {
      "text/plain": [
       "101113.73"
      ]
     },
     "execution_count": 3,
     "metadata": {},
     "output_type": "execute_result"
    }
   ],
   "source": [
    "max(df[\"Altitude\"])"
   ]
  },
  {
   "cell_type": "code",
   "execution_count": null,
   "metadata": {},
   "outputs": [
    {
     "data": {
      "text/plain": [
       "19.1548"
      ]
     },
     "execution_count": 22,
     "metadata": {},
     "output_type": "execute_result"
    }
   ],
   "source": [
    "# Time for first good GPS reading after the apogee \n",
    "(1339333-1147785)/10000"
   ]
  },
  {
   "cell_type": "code",
   "execution_count": null,
   "metadata": {},
   "outputs": [
    {
     "data": {
      "text/plain": [
       "17.0396"
      ]
     },
     "execution_count": 21,
     "metadata": {},
     "output_type": "execute_result"
    }
   ],
   "source": [
    "# Time beforefirst good GPS reading after the apogee \n",
    "(1147785-977389)/10000"
   ]
  },
  {
   "cell_type": "code",
   "execution_count": null,
   "metadata": {},
   "outputs": [
    {
     "data": {
      "text/plain": [
       "1347    18.00\n",
       "2292    17.84\n",
       "2431    17.79\n",
       "Name: Altitude, dtype: float64"
      ]
     },
     "execution_count": 14,
     "metadata": {},
     "output_type": "execute_result"
    }
   ],
   "source": [
    "df.loc[df['Latitude'] == df['Latitude'].max(), 'Altitude']"
   ]
  },
  {
   "cell_type": "code",
   "execution_count": null,
   "metadata": {},
   "outputs": [
    {
     "data": {
      "text/plain": [
       "Index(['Time', 'Latitude', 'Longitude', 'Altitude', 'Temperature', 'Pressure',\n",
       "       'AccelX', 'AccelY', 'AccelZ', 'GyroX', 'GyroY', 'GyroZ',\n",
       "       'MPU_Temperature'],\n",
       "      dtype='object')"
      ]
     },
     "execution_count": 11,
     "metadata": {},
     "output_type": "execute_result"
    }
   ],
   "source": [
    "df.columns"
   ]
  },
  {
   "cell_type": "code",
   "execution_count": 16,
   "metadata": {},
   "outputs": [],
   "source": [
    "# Assuming 'df' is your DataFrame\n",
    "max_alt_row = df.loc[df['Altitude'].idxmax()]"
   ]
  },
  {
   "cell_type": "code",
   "execution_count": 17,
   "metadata": {},
   "outputs": [
    {
     "data": {
      "text/plain": [
       "Time                     NaN\n",
       "Latitude               17.60\n",
       "Longitude              17.84\n",
       "Altitude           101113.73\n",
       "Temperature             0.31\n",
       "Pressure                9.47\n",
       "AccelX                  1.84\n",
       "AccelY                 -0.02\n",
       "AccelZ                  0.11\n",
       "GyroX                  -0.05\n",
       "GyroY                  19.56\n",
       "GyroZ                    NaN\n",
       "MPU_Temperature          NaN\n",
       "Name: 2274, dtype: object"
      ]
     },
     "execution_count": 17,
     "metadata": {},
     "output_type": "execute_result"
    }
   ],
   "source": [
    "max_alt_row"
   ]
  },
  {
   "cell_type": "code",
   "execution_count": null,
   "metadata": {},
   "outputs": [],
   "source": []
  }
 ],
 "metadata": {
  "kernelspec": {
   "display_name": "env",
   "language": "python",
   "name": "python3"
  },
  "language_info": {
   "codemirror_mode": {
    "name": "ipython",
    "version": 3
   },
   "file_extension": ".py",
   "mimetype": "text/x-python",
   "name": "python",
   "nbconvert_exporter": "python",
   "pygments_lexer": "ipython3",
   "version": "3.12.7"
  }
 },
 "nbformat": 4,
 "nbformat_minor": 2
}
